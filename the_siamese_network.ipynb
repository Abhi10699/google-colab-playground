{
  "cells": [
    {
      "cell_type": "markdown",
      "metadata": {
        "id": "view-in-github",
        "colab_type": "text"
      },
      "source": [
        "<a href=\"https://colab.research.google.com/github/Abhi10699/google-colab-playground/blob/main/the_siamese_network.ipynb\" target=\"_parent\"><img src=\"https://colab.research.google.com/assets/colab-badge.svg\" alt=\"Open In Colab\"/></a>"
      ]
    },
    {
      "cell_type": "code",
      "execution_count": null,
      "metadata": {
        "id": "676M86hNYSvP"
      },
      "outputs": [],
      "source": [
        "import tensorflow as tf\n",
        "from tensorflow.keras import layers\n",
        "from tensorflow.keras.applications.vgg16 import VGG16"
      ]
    },
    {
      "cell_type": "code",
      "execution_count": null,
      "metadata": {
        "id": "c0IY7Wzhv4YM"
      },
      "outputs": [],
      "source": [
        "def siamese_network(image_input_shape, sound_input_shape):\n",
        "\n",
        "    image_input = tf.keras.Input(shape=image_input_shape)\n",
        "    sound_input = tf.keras.Input(shape=sound_input_shape)\n",
        "    vgg = VGG16(\n",
        "        include_top=False,\n",
        "        input_shape=(512, 512, 3),\n",
        "        pooling='max',\n",
        "    )\n",
        "\n",
        "    image_x = vgg(image_input)\n",
        "    image_x = layers.Flatten()(image_x)\n",
        "\n",
        "    sound_embeddings = layers.Embedding(2,128)\n",
        "    sound_fc1 = layers.Dense(64, activation='relu')\n",
        "    sound_fc2 = layers.Dense(64, activation='relu')\n",
        "\n",
        "    sound_x = sound_embeddings(sound_input)\n",
        "    sound_x = layers.Flatten()(sound_x)\n",
        "    sound_x = sound_fc1(sound_x)\n",
        "    sound_x = sound_fc2(sound_x)\n",
        "\n",
        "    concatenated = layers.Concatenate()([image_x, sound_x])\n",
        "\n",
        "    x = layers.Dense(128, activation='relu')(concatenated)\n",
        "\n",
        "    output = layers.Dense(1, activation='sigmoid')(x)\n",
        "\n",
        "    model = tf.keras.Model(inputs=[image_input, sound_input], outputs=output)\n",
        "\n",
        "    return model\n"
      ]
    },
    {
      "cell_type": "code",
      "source": [],
      "metadata": {
        "id": "rtTGZpII2TU8"
      },
      "execution_count": null,
      "outputs": []
    },
    {
      "cell_type": "code",
      "execution_count": null,
      "metadata": {
        "colab": {
          "base_uri": "https://localhost:8080/"
        },
        "id": "BvD6sgMZxlBO",
        "outputId": "dfd9a66b-9185-460e-cafc-a04c6c350258"
      },
      "outputs": [
        {
          "name": "stdout",
          "output_type": "stream",
          "text": [
            "Downloading data from https://storage.googleapis.com/tensorflow/keras-applications/vgg16/vgg16_weights_tf_dim_ordering_tf_kernels_notop.h5\n",
            "58889256/58889256 [==============================] - 2s 0us/step\n",
            "Model: \"model\"\n",
            "__________________________________________________________________________________________________\n",
            " Layer (type)                   Output Shape         Param #     Connected to                     \n",
            "==================================================================================================\n",
            " input_4 (InputLayer)           [(None, 2)]          0           []                               \n",
            "                                                                                                  \n",
            " embedding (Embedding)          (None, 2, 128)       256         ['input_4[0][0]']                \n",
            "                                                                                                  \n",
            " input_3 (InputLayer)           [(None, 512, 512, 3  0           []                               \n",
            "                                )]                                                                \n",
            "                                                                                                  \n",
            " flatten_1 (Flatten)            (None, 256)          0           ['embedding[0][0]']              \n",
            "                                                                                                  \n",
            " vgg16 (Functional)             (None, 512)          14714688    ['input_3[0][0]']                \n",
            "                                                                                                  \n",
            " dense (Dense)                  (None, 64)           16448       ['flatten_1[0][0]']              \n",
            "                                                                                                  \n",
            " flatten (Flatten)              (None, 512)          0           ['vgg16[0][0]']                  \n",
            "                                                                                                  \n",
            " dense_1 (Dense)                (None, 64)           4160        ['dense[0][0]']                  \n",
            "                                                                                                  \n",
            " concatenate (Concatenate)      (None, 576)          0           ['flatten[0][0]',                \n",
            "                                                                  'dense_1[0][0]']                \n",
            "                                                                                                  \n",
            " dense_2 (Dense)                (None, 128)          73856       ['concatenate[0][0]']            \n",
            "                                                                                                  \n",
            " dense_3 (Dense)                (None, 1)            129         ['dense_2[0][0]']                \n",
            "                                                                                                  \n",
            "==================================================================================================\n",
            "Total params: 14,809,537\n",
            "Trainable params: 14,809,537\n",
            "Non-trainable params: 0\n",
            "__________________________________________________________________________________________________\n"
          ]
        }
      ],
      "source": [
        "model = siamese_network([512,512, 3],[2])\n",
        "model.compile(optimizer=\"adam\",loss=\"binary_crossentropy\",metrics=['accuracy'])\n",
        "model.summary()"
      ]
    },
    {
      "cell_type": "markdown",
      "metadata": {
        "id": "qKR4fnSw0M6o"
      },
      "source": [
        "### Model Testing"
      ]
    },
    {
      "cell_type": "code",
      "execution_count": null,
      "metadata": {
        "id": "y2CaK6wexyfL"
      },
      "outputs": [],
      "source": [
        "import numpy as np\n",
        "import matplotlib.pyplot as plt\n",
        "\n",
        "from random import randint"
      ]
    },
    {
      "cell_type": "code",
      "execution_count": null,
      "metadata": {
        "id": "EkqMsixo0UZm"
      },
      "outputs": [],
      "source": [
        "sample_size = 10\n",
        "img_test = np.random.random(size= [sample_size,512,512,3])\n",
        "sound_test = np.random.random(size=[sample_size,2])\n",
        "\n",
        "labels = np.array([randint(0,1) for i in range(0,sample_size)])"
      ]
    },
    {
      "cell_type": "code",
      "execution_count": null,
      "metadata": {
        "colab": {
          "base_uri": "https://localhost:8080/"
        },
        "id": "5K63pQ8q0Xzs",
        "outputId": "740b8a62-125e-49be-ffe0-17f919eb4ad6"
      },
      "outputs": [
        {
          "name": "stdout",
          "output_type": "stream",
          "text": [
            "1/1 [==============================] - 37s 37s/step - loss: 0.6923 - accuracy: 0.6000\n"
          ]
        },
        {
          "data": {
            "text/plain": [
              "<keras.callbacks.History at 0x7e11f2146a40>"
            ]
          },
          "execution_count": 12,
          "metadata": {},
          "output_type": "execute_result"
        }
      ],
      "source": [
        "model.fit([img_test, sound_test], labels)"
      ]
    },
    {
      "cell_type": "code",
      "execution_count": null,
      "metadata": {
        "colab": {
          "base_uri": "https://localhost:8080/"
        },
        "id": "x1WdhedA0tLn",
        "outputId": "1fbe0f0d-06cc-4499-e2e6-586175ce825d"
      },
      "outputs": [
        {
          "name": "stdout",
          "output_type": "stream",
          "text": [
            "1/1 [==============================] - 1s 1s/step\n"
          ]
        },
        {
          "data": {
            "text/plain": [
              "array([[0.96297336]], dtype=float32)"
            ]
          },
          "execution_count": 13,
          "metadata": {},
          "output_type": "execute_result"
        }
      ],
      "source": [
        "img_test = np.random.random(size= [1,512,512,3])\n",
        "sound_test = np.random.random(size=[1,2])\n",
        "\n",
        "model.predict([img_test, sound_test])"
      ]
    },
    {
      "cell_type": "code",
      "execution_count": null,
      "metadata": {
        "id": "GuC1178ly9ql"
      },
      "outputs": [],
      "source": [
        "import psycopg2\n",
        "\n",
        "conn = psycopg2.connect(\n",
        "    host=\"db.ncezbfbkdrpncldnvrys.supabase.co\",\n",
        "    port=\"5432\",\n",
        "    user=\"postgres\",\n",
        "    password=\"imsrecsys@1234\",\n",
        "    database=\"postgres\",\n",
        "    sslmode=\"verify-ca\",\n",
        "    sslrootcert=\"./prod-ca-2021.crt\"\n",
        ")\n",
        "\n",
        "\n",
        "def get_labelled_data():\n",
        "    cur = conn.cursor()\n",
        "    try:\n",
        "        cur.execute('''\n",
        "          select\n",
        "            url_ref,\n",
        "            sng.acousticness,\n",
        "            sng.danceability,\n",
        "            sng.valence,\n",
        "            sng.speechiness,\n",
        "            ims.liked,\n",
        "            img._id as \"image_id\"\n",
        "          from\n",
        "              tbl_image_songs as ims\n",
        "          join\n",
        "            tbl_images as img\n",
        "            on\n",
        "              img._id = ims.image_id\n",
        "            join\n",
        "              tbl_songs as sng\n",
        "            on\n",
        "              ims.track_id = sng._id;\n",
        "          ''')\n",
        "        data = cur.fetchall()\n",
        "        return data\n",
        "    except Exception as e:\n",
        "        print(e)\n",
        "        conn.rollback()\n",
        "\n",
        "    finally:\n",
        "        cur.close()"
      ]
    },
    {
      "cell_type": "code",
      "execution_count": null,
      "metadata": {
        "id": "WXBwmJXvFzI_"
      },
      "outputs": [],
      "source": [
        "!rm -rf ./images"
      ]
    },
    {
      "cell_type": "code",
      "execution_count": null,
      "metadata": {
        "colab": {
          "base_uri": "https://localhost:8080/"
        },
        "id": "Fo1P6mqI2TUv",
        "outputId": "9c91a023-dc95-4c90-8662-46145a43c3a2"
      },
      "outputs": [
        {
          "output_type": "stream",
          "name": "stderr",
          "text": [
            "100%|██████████| 4600/4600 [1:19:54<00:00,  1.04s/it]"
          ]
        },
        {
          "output_type": "stream",
          "name": "stdout",
          "text": [
            "Image Shape: (4600, 128, 128, 3)\n",
            "Songs Shape: (4600, 4)\n",
            "Labels Shape: (4600,)\n"
          ]
        },
        {
          "output_type": "stream",
          "name": "stderr",
          "text": [
            "\n"
          ]
        }
      ],
      "source": [
        "import requests\n",
        "import numpy as np\n",
        "import cv2\n",
        "import os\n",
        "import ssl\n",
        "import tensorflow as tf\n",
        "\n",
        "from google.colab.patches import cv2_imshow\n",
        "from tqdm import tqdm\n",
        "from urllib.parse import quote\n",
        "\n",
        "from urllib3.exceptions import InsecureRequestWarning\n",
        "from urllib.request import urlopen\n",
        "\n",
        "from tensorflow.keras import layers\n",
        "from tensorflow.keras.applications.vgg16 import VGG16\n",
        "\n",
        "from random import shuffle\n",
        "\n",
        "# disable warnings\n",
        "requests.packages.urllib3.disable_warnings(category=InsecureRequestWarning)\n",
        "\n",
        "\n",
        "# constants\n",
        "\n",
        "IMAGE_DIMENSIONS = (128, 128)\n",
        "IMAGE_SHAPE = [128,128,3]\n",
        "\n",
        "# create image director\n",
        "try:\n",
        "    os.makedirs(\"./images/\")\n",
        "except:\n",
        "    pass\n",
        "\n",
        "def get_dataset():\n",
        "    # get data\n",
        "    dataset = get_labelled_data()\n",
        "    shuffle(dataset)\n",
        "\n",
        "    # download images and preprocess to train\n",
        "\n",
        "    image_data = []\n",
        "    downloaded_images = os.listdir(\"./images/\")\n",
        "\n",
        "    ctx = ssl.create_default_context()\n",
        "    ctx.check_hostname = False\n",
        "    ctx.verify_mode = ssl.CERT_NONE\n",
        "\n",
        "    images_arr = []\n",
        "    songs_arr = []\n",
        "    liked_arr = []\n",
        "\n",
        "    for data in tqdm(dataset):\n",
        "        # TODO: get extension from image name itself\n",
        "\n",
        "        file_name = f\"./images/{data[6]}.jpeg\"\n",
        "        if not f\"{data[6]}.jpeg\" in downloaded_images:\n",
        "\n",
        "            url_clean = data[0].split(\"https://\")[1]\n",
        "            url_clean = f\"https://{url_clean}\".replace(\" \", \"%20\")\n",
        "\n",
        "            resp = urlopen(url_clean, context=ctx)\n",
        "            image = np.asarray(bytearray(resp.read()), dtype=\"uint8\")\n",
        "            image = cv2.imdecode(image, cv2.IMREAD_COLOR)\n",
        "            # image = image / 255\n",
        "            image = cv2.resize(image, IMAGE_DIMENSIONS)\n",
        "\n",
        "            cv2.imwrite(file_name, image)\n",
        "\n",
        "            # mark id as downloaded\n",
        "            downloaded_images.append(data[6])\n",
        "\n",
        "        else:\n",
        "            image = cv2.imread(file_name)\n",
        "            image = cv2.resize(image, IMAGE_DIMENSIONS)\n",
        "\n",
        "\n",
        "\n",
        "        song_attribs = data[1:5]\n",
        "        liked = 1 if data[5] == True else 0\n",
        "\n",
        "        songs_arr.append(song_attribs)\n",
        "        images_arr.append(image)\n",
        "        liked_arr.append(liked)\n",
        "\n",
        "    return np.array(songs_arr), np.array(images_arr), np.array(liked_arr)\n",
        "\n",
        "# setup training data\n",
        "\n",
        "songs_arr, images_arr, liked_arr = get_dataset()\n",
        "print(f\"Image Shape: {images_arr.shape}\")\n",
        "print(f\"Songs Shape: {songs_arr.shape}\")\n",
        "print(f\"Labels Shape: {liked_arr.shape}\")"
      ]
    },
    {
      "cell_type": "code",
      "source": [
        "!unzip checkpoints.zip"
      ],
      "metadata": {
        "colab": {
          "base_uri": "https://localhost:8080/"
        },
        "id": "mjRGaaFg_D_M",
        "outputId": "7cabe053-4632-46e7-b412-7c90a6f1c7f9"
      },
      "execution_count": null,
      "outputs": [
        {
          "output_type": "stream",
          "name": "stdout",
          "text": [
            "Archive:  checkpoints.zip\n",
            "   creating: checkpoints/\n",
            "  inflating: checkpoints/my_checkpoint.data-00000-of-00001  \n",
            "  inflating: checkpoints/my_checkpoint.index  \n",
            "  inflating: checkpoints/checkpoint  \n"
          ]
        }
      ]
    },
    {
      "cell_type": "code",
      "execution_count": null,
      "metadata": {
        "colab": {
          "base_uri": "https://localhost:8080/"
        },
        "id": "iYCf0ZsFzpAK",
        "outputId": "9cdac3b7-a6a3-4b9a-e00e-8eb6d3f03dda"
      },
      "outputs": [
        {
          "output_type": "stream",
          "name": "stdout",
          "text": [
            "Model: \"model_1\"\n",
            "__________________________________________________________________________________________________\n",
            " Layer (type)                   Output Shape         Param #     Connected to                     \n",
            "==================================================================================================\n",
            " input_6 (InputLayer)           [(None, 128, 128, 3  0           []                               \n",
            "                                )]                                                                \n",
            "                                                                                                  \n",
            " vgg16 (Functional)             (None, 4, 4, 512)    14714688    ['input_6[0][0]']                \n",
            "                                                                                                  \n",
            " input_7 (InputLayer)           [(None, 4)]          0           []                               \n",
            "                                                                                                  \n",
            " flatten (Flatten)              (None, 8192)         0           ['vgg16[0][0]']                  \n",
            "                                                                                                  \n",
            " dense_7 (Dense)                (None, 32)           160         ['input_7[0][0]']                \n",
            "                                                                                                  \n",
            " concatenate (Concatenate)      (None, 8224)         0           ['flatten[0][0]',                \n",
            "                                                                  'dense_7[0][0]']                \n",
            "                                                                                                  \n",
            " dense_8 (Dense)                (None, 128)          1052800     ['concatenate[0][0]']            \n",
            "                                                                                                  \n",
            " dense_9 (Dense)                (None, 1)            129         ['dense_8[0][0]']                \n",
            "                                                                                                  \n",
            "==================================================================================================\n",
            "Total params: 15,767,777\n",
            "Trainable params: 15,767,777\n",
            "Non-trainable params: 0\n",
            "__________________________________________________________________________________________________\n",
            "None\n",
            "Epoch 1/4\n",
            "130/130 [==============================] - ETA: 0s - loss: 1.1140 - accuracy: 0.8331\n",
            "Epoch 1: saving model to ./models/siamese-ckpts/\n"
          ]
        },
        {
          "output_type": "stream",
          "name": "stderr",
          "text": [
            "WARNING:absl:Found untraced functions such as _jit_compiled_convolution_op, _jit_compiled_convolution_op, _jit_compiled_convolution_op, _jit_compiled_convolution_op, _jit_compiled_convolution_op while saving (showing 5 of 13). These functions will not be directly callable after loading.\n"
          ]
        },
        {
          "output_type": "stream",
          "name": "stdout",
          "text": [
            "\b\b\b\b\b\b\b\b\b\b\b\b\b\b\b\b\b\b\b\b\b\b\b\b\b\b\b\b\b\b\b\b\b\b\b\b\b\b\b\b\b\b\b\b\b\b\b\b\b\b\b\b\b\b\b\b\b\b\b\b\b\b\b\b\b\b\b\b\b\b\b\b\b\b\b\b\b\b\b\b\b\b\b\b\r130/130 [==============================] - 46s 197ms/step - loss: 1.1140 - accuracy: 0.8331 - val_loss: 0.4290 - val_accuracy: 0.8457\n",
            "Epoch 2/4\n",
            "130/130 [==============================] - ETA: 0s - loss: 0.4357 - accuracy: 0.8420\n",
            "Epoch 2: saving model to ./models/siamese-ckpts/\n"
          ]
        },
        {
          "output_type": "stream",
          "name": "stderr",
          "text": [
            "WARNING:absl:Found untraced functions such as _jit_compiled_convolution_op, _jit_compiled_convolution_op, _jit_compiled_convolution_op, _jit_compiled_convolution_op, _jit_compiled_convolution_op while saving (showing 5 of 13). These functions will not be directly callable after loading.\n"
          ]
        },
        {
          "output_type": "stream",
          "name": "stdout",
          "text": [
            "\b\b\b\b\b\b\b\b\b\b\b\b\b\b\b\b\b\b\b\b\b\b\b\b\b\b\b\b\b\b\b\b\b\b\b\b\b\b\b\b\b\b\b\b\b\b\b\b\b\b\b\b\b\b\b\b\b\b\b\b\b\b\b\b\b\b\b\b\b\b\b\b\b\b\b\b\b\b\b\b\b\b\b\b\r130/130 [==============================] - 21s 163ms/step - loss: 0.4357 - accuracy: 0.8420 - val_loss: 0.4311 - val_accuracy: 0.8457\n",
            "Epoch 3/4\n",
            "130/130 [==============================] - ETA: 0s - loss: 0.4446 - accuracy: 0.8420\n",
            "Epoch 3: saving model to ./models/siamese-ckpts/\n"
          ]
        },
        {
          "output_type": "stream",
          "name": "stderr",
          "text": [
            "WARNING:absl:Found untraced functions such as _jit_compiled_convolution_op, _jit_compiled_convolution_op, _jit_compiled_convolution_op, _jit_compiled_convolution_op, _jit_compiled_convolution_op while saving (showing 5 of 13). These functions will not be directly callable after loading.\n"
          ]
        },
        {
          "output_type": "stream",
          "name": "stdout",
          "text": [
            "\b\b\b\b\b\b\b\b\b\b\b\b\b\b\b\b\b\b\b\b\b\b\b\b\b\b\b\b\b\b\b\b\b\b\b\b\b\b\b\b\b\b\b\b\b\b\b\b\b\b\b\b\b\b\b\b\b\b\b\b\b\b\b\b\b\b\b\b\b\b\b\b\b\b\b\b\b\b\b\b\b\b\b\b\r130/130 [==============================] - 23s 173ms/step - loss: 0.4446 - accuracy: 0.8420 - val_loss: 0.4403 - val_accuracy: 0.8457\n",
            "Epoch 4/4\n",
            "130/130 [==============================] - ETA: 0s - loss: 0.4413 - accuracy: 0.8420\n",
            "Epoch 4: saving model to ./models/siamese-ckpts/\n"
          ]
        },
        {
          "output_type": "stream",
          "name": "stderr",
          "text": [
            "WARNING:absl:Found untraced functions such as _jit_compiled_convolution_op, _jit_compiled_convolution_op, _jit_compiled_convolution_op, _jit_compiled_convolution_op, _jit_compiled_convolution_op while saving (showing 5 of 13). These functions will not be directly callable after loading.\n"
          ]
        },
        {
          "output_type": "stream",
          "name": "stdout",
          "text": [
            "\b\b\b\b\b\b\b\b\b\b\b\b\b\b\b\b\b\b\b\b\b\b\b\b\b\b\b\b\b\b\b\b\b\b\b\b\b\b\b\b\b\b\b\b\b\b\b\b\b\b\b\b\b\b\b\b\b\b\b\b\b\b\b\b\b\b\b\b\b\b\b\b\b\b\b\b\b\b\b\b\b\b\b\b\r130/130 [==============================] - 22s 173ms/step - loss: 0.4413 - accuracy: 0.8420 - val_loss: 0.4401 - val_accuracy: 0.8457\n"
          ]
        },
        {
          "output_type": "execute_result",
          "data": {
            "text/plain": [
              "<keras.callbacks.History at 0x7d15702f7f10>"
            ]
          },
          "metadata": {},
          "execution_count": 6
        }
      ],
      "source": [
        "\n",
        "from tensorflow.keras import Model\n",
        "\n",
        "def LandscapeConvNet():\n",
        "\n",
        "  # image input layer\n",
        "  image_input = layers.Input(shape=(128, 128, 3))\n",
        "\n",
        "  # vgg conv layer\n",
        "  vgg = VGG16(\n",
        "    include_top=False,\n",
        "    input_shape=(128, 128, 3),\n",
        "    pooling='max',\n",
        "  )\n",
        "\n",
        "  # dense layers\n",
        "\n",
        "  fc1 = layers.Dense(128, activation=\"relu\")\n",
        "  fc2 = layers.Dense(64, activation=\"relu\")\n",
        "  fc3 = layers.Dense(32, activation=\"relu\")\n",
        "  fc4 = layers.Dense(16, activation=\"relu\")\n",
        "\n",
        "\n",
        "  # layer connections\n",
        "  image_x = vgg(image_input)\n",
        "  image_x = fc1(image_x)\n",
        "  image_x = fc2(image_x)\n",
        "  image_x = fc3(image_x)\n",
        "  image_x = fc4(image_x)\n",
        "\n",
        "  # output connection\n",
        "\n",
        "  output = layers.Dense(4, activation=\"softmax\")(image_x)\n",
        "\n",
        "\n",
        "  # model\n",
        "\n",
        "  model = Model(inputs=image_input, outputs=output)\n",
        "\n",
        "  # compile\n",
        "  model.compile(\n",
        "      optimizer=\"adam\",\n",
        "      loss=\"categorical_crossentropy\",\n",
        "      metrics = ['accuracy']\n",
        "  )\n",
        "  return model\n",
        "\n",
        "\n",
        "def siamese_network(image_input_shape, sound_input_shape):\n",
        "    \"\"\"\n",
        "    Siamese network architecture for image and sound similarity.\n",
        "\n",
        "    Args:\n",
        "        image_input_shape: Shape of the image input samples.\n",
        "        sound_input_shape: Shape of the sound input samples.\n",
        "\n",
        "    Returns:\n",
        "        Siamese network model.\n",
        "    \"\"\"\n",
        "\n",
        "    # Define the input layers for the image and sound samples\n",
        "    image_input = tf.keras.Input(shape=image_input_shape)\n",
        "    sound_input = tf.keras.Input(shape=sound_input_shape)\n",
        "    vgg = VGG16(\n",
        "        include_top=False,\n",
        "        input_shape=(128, 128, 3),\n",
        "    )\n",
        "\n",
        "    # load pretrained\n",
        "    # landscape_conv_base = LandscapeConvNet()\n",
        "    # landscape_conv_base.load_weights(\"./checkpoints/my_checkpoint\").expect_partial()\n",
        "\n",
        "\n",
        "    # landscape_conv_pretrained = tf.keras.Sequential(landscape_conv_base.layers[:2])\n",
        "\n",
        "\n",
        "    # # do not learn\n",
        "    # landscape_conv_base.trainable = False\n",
        "    # landscape_conv_pretrained.trainable = False\n",
        "\n",
        "\n",
        "    # Shared image convolutional layers\n",
        "    image_x = vgg(image_input)\n",
        "    image_dropout = layers.Dropout(0.2)(image_x)\n",
        "    image_x = layers.Flatten()(image_x)\n",
        "\n",
        "    # shared sound fc layers\n",
        "    # sound_embeddings = layers.Embedding(4, 512)\n",
        "    sound_fc1 = layers.Dense(128, activation='tanh')\n",
        "    sound_fc2 = layers.Dense(64, activation='tanh')\n",
        "    sound_fc3 = layers.Dense(32, activation='tanh')\n",
        "\n",
        "\n",
        "    # Process the sound sample\n",
        "    sound_x = sound_fc1(sound_input)\n",
        "    sound_x = sound_fc2(sound_input)\n",
        "    sound_x = sound_fc3(sound_input)\n",
        "\n",
        "    # Concatenate the processed image and sound features\n",
        "    concatenated = layers.Concatenate()([image_x, sound_x])\n",
        "\n",
        "    # Fully connected layer\n",
        "    x = layers.Dense(128, activation='relu')(concatenated)\n",
        "\n",
        "    # Output layer\n",
        "    output = layers.Dense(1, activation='sigmoid')(x)\n",
        "\n",
        "    model = tf.keras.Model(inputs=[image_input, sound_input], outputs=output)\n",
        "\n",
        "    return model\n",
        "\n",
        "\n",
        "model = siamese_network(IMAGE_SHAPE, [4])\n",
        "model.compile(\n",
        "    optimizer=\"adam\",\n",
        "    loss=\"binary_crossentropy\",\n",
        "    metrics=['accuracy']\n",
        ")\n",
        "\n",
        "print(model.summary())\n",
        "\n",
        "# setup checkpointing callback\n",
        "\n",
        "checkpoint_path = \"./models/siamese-ckpts/\"\n",
        "ckpt_callback = tf.keras.callbacks.ModelCheckpoint(\n",
        "    filepath=checkpoint_path,\n",
        "    verbose=1\n",
        ")\n",
        "\n",
        "# train the model\n",
        "\n",
        "model.fit(\n",
        "    [images_arr, songs_arr],\n",
        "    liked_arr,\n",
        "    callbacks=[ckpt_callback],\n",
        "    validation_split=0.1,\n",
        "    epochs=4\n",
        ")"
      ]
    },
    {
      "cell_type": "code",
      "execution_count": null,
      "metadata": {
        "id": "KKFLdffm2BUr"
      },
      "outputs": [],
      "source": [
        "def test_image(image_path, song_attrib):\n",
        "  image = cv2.imread(image_path)\n",
        "  image = cv2.resize(image, (128, 128))\n",
        "  image = np.expand_dims(image, axis=0).astype('float32')\n",
        "\n",
        "  song = np.array(song_attrib).reshape(1,-1).astype('float32')\n",
        "  preds = model.predict([image, song],verbose=0)\n",
        "  return preds[0]"
      ]
    },
    {
      "cell_type": "code",
      "execution_count": null,
      "metadata": {
        "id": "-EV5xqLP4M6c"
      },
      "outputs": [],
      "source": [
        "import pandas as pd\n",
        "\n",
        "df = pd.read_csv(\"spotify_200K.csv\")\n",
        "df = df[['name','track_uri','acousticness','danceability','valence','speechiness']]"
      ]
    },
    {
      "cell_type": "code",
      "execution_count": null,
      "metadata": {
        "colab": {
          "base_uri": "https://localhost:8080/"
        },
        "id": "t_0ZX2gJ47zV",
        "outputId": "d658b32d-49f8-499f-e423-bd8461327946"
      },
      "outputs": [
        {
          "output_type": "stream",
          "name": "stderr",
          "text": [
            "100it [00:07, 12.77it/s]\n"
          ]
        }
      ],
      "source": [
        "similarity_idx = {}\n",
        "for idx, vals in tqdm(enumerate(df.sample(100).values)):\n",
        "  song = np.array(vals[2:])\n",
        "  pred = test_image(\"./9945.jpeg\",song)\n",
        "  similarity_idx[vals[1]] = pred"
      ]
    },
    {
      "cell_type": "code",
      "execution_count": null,
      "metadata": {
        "colab": {
          "base_uri": "https://localhost:8080/"
        },
        "id": "ufEf7Eft5qxa",
        "outputId": "6667c8f0-1c8e-4a77-92ca-1f220ae6f4e1"
      },
      "outputs": [
        {
          "output_type": "stream",
          "name": "stdout",
          "text": [
            "https://open.spotify.com/track/6kz2mblgBKN2GyKnjfiB5Z - [0.14452843]\n",
            "https://open.spotify.com/track/6D9JyzMU2sPPt1cAdtTUlo - [0.1422873]\n",
            "https://open.spotify.com/track/3XnMv2HUUzl5rCwWJlYELW - [0.14178547]\n",
            "https://open.spotify.com/track/5yMH1OfBOrKE3W3wGkRRCR - [0.14112675]\n",
            "https://open.spotify.com/track/1ZC1vU3OWjOZqREj9th9eh - [0.14095347]\n",
            "https://open.spotify.com/track/4T9asf08sPU9aAMiPe3wWh - [0.13900433]\n",
            "https://open.spotify.com/track/2drjvvxnEhyJmlokeZSvhr - [0.13888806]\n",
            "https://open.spotify.com/track/6vYpHgyoU5m3DdJIwHzWTJ - [0.13845861]\n",
            "https://open.spotify.com/track/54Cd9MzI1eC9jxXrL7SshL - [0.13454334]\n",
            "https://open.spotify.com/track/1qe1mHUozUo7PoMBBLnr3i - [0.13393535]\n",
            "https://open.spotify.com/track/5hGsKbBKTyu0GylYdHcuaf - [0.13353013]\n",
            "https://open.spotify.com/track/1waSaXG4TvuscnmGvyneff - [0.13243368]\n",
            "https://open.spotify.com/track/3ncySJfjsBGeYyiEEkglqq - [0.12929824]\n",
            "https://open.spotify.com/track/6sMYYobL2yYL5mhg8hZAmB - [0.12060738]\n",
            "https://open.spotify.com/track/2gS1xI2bgzSwPgxd59TpOf - [0.12058164]\n",
            "https://open.spotify.com/track/3GEu6lPTjGx8IKXZtzwP7Q - [0.11793013]\n",
            "https://open.spotify.com/track/2lNFnmoEC5as0zbthgENlw - [0.11722948]\n",
            "https://open.spotify.com/track/1UavN4xXpbFKs4Zmw6Dysa - [0.11432885]\n",
            "https://open.spotify.com/track/6iVLxrdIn1EYm6gBAYUZFj - [0.11039103]\n",
            "https://open.spotify.com/track/6OuFVG5edvydQS3SrMMUqP - [0.11001404]\n",
            "https://open.spotify.com/track/7InfjdILTHBOIs6NBUZgzv - [0.10999521]\n",
            "https://open.spotify.com/track/2fKlGC0vIdZL8WGkzBbhq1 - [0.10858278]\n",
            "https://open.spotify.com/track/0Y7kbZ3s7AYKGc0N8BJngA - [0.10761546]\n",
            "https://open.spotify.com/track/5tajHFDSc3NisQ9X7aWLw5 - [0.10680663]\n",
            "https://open.spotify.com/track/3iDjUMqKEiSWliJguqWFzt - [0.10632717]\n",
            "https://open.spotify.com/track/7oolwbBCaKfZBdg9b2kYcX - [0.10573798]\n",
            "https://open.spotify.com/track/74tFLjFWzdydNgufg1XpNw - [0.10559171]\n",
            "https://open.spotify.com/track/17dCSc5Vq1riorH10dNqAS - [0.10501133]\n",
            "https://open.spotify.com/track/2syQErCMMM1rXeZqtuaqxg - [0.10331837]\n",
            "https://open.spotify.com/track/5G9vnjl3ZihdAVmDbQVi1D - [0.10263052]\n",
            "https://open.spotify.com/track/7HrdQQUjSl1M0zlUx0TmXg - [0.10197847]\n",
            "https://open.spotify.com/track/0UT1C7p8ehkb8cmD2Ncxyu - [0.10171004]\n",
            "https://open.spotify.com/track/34QvYHrNM1GBTGAwtGAyQ2 - [0.10165598]\n",
            "https://open.spotify.com/track/1hRMFNJj4HvyWHtwLVW4Fb - [0.10126565]\n",
            "https://open.spotify.com/track/0sYOjof3pty9LvtBAdtekv - [0.09825642]\n",
            "https://open.spotify.com/track/3UVdaO2t9STLlJYrNCXlNG - [0.09806458]\n",
            "https://open.spotify.com/track/2VvUor8pk8HOR9cb5iC84z - [0.09802414]\n",
            "https://open.spotify.com/track/1abLBawy3tWjTpG3yaXnFt - [0.09766199]\n",
            "https://open.spotify.com/track/3eb9HO1cq8uzEmUdU7mNvs - [0.09757526]\n",
            "https://open.spotify.com/track/6YtibSZEoP9m00Blzcod48 - [0.09682469]\n",
            "https://open.spotify.com/track/3gqXWJ49U6BXXfvNsgedTA - [0.09674552]\n",
            "https://open.spotify.com/track/6YpA6F3eJAcJ0ZSxMHQ4M6 - [0.09633803]\n",
            "https://open.spotify.com/track/7GGguiA9LkgFT3BZbzHjwQ - [0.09595653]\n",
            "https://open.spotify.com/track/7LGTjvQg1wkcMaTKmVahAg - [0.0941191]\n",
            "https://open.spotify.com/track/12bAQyd00i6u9A0SbY0lft - [0.09403102]\n",
            "https://open.spotify.com/track/0KvnPltKfg01MhUZHC6PcU - [0.0920956]\n",
            "https://open.spotify.com/track/6keyBQK6pA0OApRfM1f0dp - [0.09099868]\n",
            "https://open.spotify.com/track/1PekZhuwybiH2x0sRyDPUq - [0.09077901]\n",
            "https://open.spotify.com/track/0z48Yb3U48qAux6tDAP5ng - [0.08958673]\n",
            "https://open.spotify.com/track/4kcH5LaUrWwGHb1BlIAhSD - [0.08824323]\n",
            "https://open.spotify.com/track/0fTQjEHnF5ixoyVHAup7As - [0.08764935]\n",
            "https://open.spotify.com/track/4J2WNFCG7p4UHgim6l0jaC - [0.08627725]\n",
            "https://open.spotify.com/track/27SD1IBImjwmcNhsMzae4z - [0.08516151]\n",
            "https://open.spotify.com/track/6Z6yBebkNbZoHFq1D8Yl5O - [0.08504762]\n",
            "https://open.spotify.com/track/0bWtmYrWat7IWlpx3rmuwc - [0.08482722]\n",
            "https://open.spotify.com/track/4CPQ4IMccumGxOA5naSzN8 - [0.08422245]\n",
            "https://open.spotify.com/track/1STJRefkPKKCvCtpub9kLl - [0.08404445]\n",
            "https://open.spotify.com/track/65G8e3OoVmVu4TWyGPoEQy - [0.08362798]\n",
            "https://open.spotify.com/track/3DjVDL25UgrEybku8UaFHs - [0.08304186]\n",
            "https://open.spotify.com/track/0tVzXGFyNPusa1VkHmYDLd - [0.0818826]\n",
            "https://open.spotify.com/track/4RNFD7JO1AttiI4D2Bp4JJ - [0.08167196]\n",
            "https://open.spotify.com/track/74WGRJYxi2Yk5dYHr7INyn - [0.0815622]\n",
            "https://open.spotify.com/track/3OAHl0CeaycHR2cE5gGylv - [0.0813012]\n",
            "https://open.spotify.com/track/0d4ND6icS0i4aeeHbj6jfU - [0.08113704]\n",
            "https://open.spotify.com/track/1lih9AUGlOI2qbAkptdBsr - [0.08095722]\n",
            "https://open.spotify.com/track/1KTkQFju4e9JnuYuXWRNnM - [0.08069564]\n",
            "https://open.spotify.com/track/0vbwHDmP0pCZj62FHZuHro - [0.08034063]\n",
            "https://open.spotify.com/track/5eebwQwrOQN5rZgR05HGef - [0.07975759]\n",
            "https://open.spotify.com/track/3cfhbNNdNeBnCE3J8eB0uH - [0.07962782]\n",
            "https://open.spotify.com/track/2NUDgu1fFrFHSKda4IErpr - [0.07956897]\n",
            "https://open.spotify.com/track/5HgezqRYJEafXOlUZKPBxY - [0.07944999]\n",
            "https://open.spotify.com/track/657REtoKMBjt6X5TDKiu8u - [0.07899574]\n",
            "https://open.spotify.com/track/5jCp5A9hMitx5zeo5Djofm - [0.07716122]\n",
            "https://open.spotify.com/track/3QCitdybXxsJXl9bye7gxk - [0.07705826]\n",
            "https://open.spotify.com/track/32dwspwxZ8ZTC8s251EbI7 - [0.07654354]\n",
            "https://open.spotify.com/track/3GAtdngrz1yAShLspEyXyG - [0.07519326]\n",
            "https://open.spotify.com/track/1YYikTSCFdbivfd22fqGsX - [0.07485495]\n",
            "https://open.spotify.com/track/7BC4B3C4ivpANxsrElLDlv - [0.07453027]\n",
            "https://open.spotify.com/track/24Jam2dilbARAWyR6K1L8v - [0.07427744]\n",
            "https://open.spotify.com/track/0TiyDTDc569zUUa9wyiRD7 - [0.07413922]\n",
            "https://open.spotify.com/track/2b9bSbLGqNmHYhKX1kKHbb - [0.07401977]\n",
            "https://open.spotify.com/track/3o3bRIOKDwGOdqL9HBUNrO - [0.07394841]\n",
            "https://open.spotify.com/track/2YKpikIUrPvznHwdIimQX2 - [0.0728427]\n",
            "https://open.spotify.com/track/1JTZqN0snbMSNtp59zveTs - [0.07264772]\n",
            "https://open.spotify.com/track/72NC1AEbaEfLVYkSFj5wLu - [0.07241075]\n",
            "https://open.spotify.com/track/7rGE3jLrDL4xAw0yqFE6sS - [0.07221323]\n",
            "https://open.spotify.com/track/1lV3NdZCVc8wZ1wdv25Gw5 - [0.07173624]\n",
            "https://open.spotify.com/track/2g13NghX82C4oR0Wmz7asw - [0.07159414]\n",
            "https://open.spotify.com/track/1jqhmwLhBrAwwjFZbrQnJk - [0.07079656]\n",
            "https://open.spotify.com/track/2VW91TBVCqRKfyBg13EZjO - [0.07073546]\n",
            "https://open.spotify.com/track/3l7zCAs8TdCbvsSD2F6SRI - [0.07045437]\n",
            "https://open.spotify.com/track/79qRzpDa5o5fP5v8qzny58 - [0.06895561]\n",
            "https://open.spotify.com/track/4yzDNpEa75MSTypGg7tCAx - [0.06665812]\n",
            "https://open.spotify.com/track/6X4ftiJF9H9YImVyKCCwuR - [0.06618113]\n",
            "https://open.spotify.com/track/3CHntEi95GeUZ5tjSGLmoR - [0.0659724]\n",
            "https://open.spotify.com/track/4wbAxrXgLfTEOzSZGEedPT - [0.06506089]\n",
            "https://open.spotify.com/track/3VffiMehjhfqo7XZ5zGpCP - [0.06493822]\n",
            "https://open.spotify.com/track/4rMvD4Qc9nod7M4adVUmoJ - [0.06274083]\n",
            "https://open.spotify.com/track/6rZEzaFw3BVvZy7PDRZQxm - [0.06192986]\n",
            "https://open.spotify.com/track/2R711v6UpsgYvDuzCJ1iSl - [0.05815835]\n"
          ]
        }
      ],
      "source": [
        "from operator import itemgetter\n",
        "songs = sorted(similarity_idx.items(), key=itemgetter(1),reverse=True)\n",
        "for song in songs:\n",
        "  print(f\"https://open.spotify.com/track/{song[0].split(':')[2]} - {song[1]}\")"
      ]
    },
    {
      "cell_type": "code",
      "execution_count": null,
      "metadata": {
        "id": "4QxRloepSdZG",
        "colab": {
          "base_uri": "https://localhost:8080/"
        },
        "outputId": "a8ad0e86-a90f-4d81-f9f3-883292625c19"
      },
      "outputs": [
        {
          "output_type": "stream",
          "name": "stdout",
          "text": [
            "  adding: models/siamese-ckpts/ (stored 0%)\n",
            "  adding: models/siamese-ckpts/keras_metadata.pb (deflated 96%)\n",
            "  adding: models/siamese-ckpts/fingerprint.pb (stored 0%)\n",
            "  adding: models/siamese-ckpts/variables/ (stored 0%)\n",
            "  adding: models/siamese-ckpts/variables/variables.data-00000-of-00001 (deflated 7%)\n",
            "  adding: models/siamese-ckpts/variables/variables.index (deflated 71%)\n",
            "  adding: models/siamese-ckpts/assets/ (stored 0%)\n",
            "  adding: models/siamese-ckpts/saved_model.pb (deflated 90%)\n"
          ]
        }
      ],
      "source": [
        "!zip -r model.zip models/siamese-ckpts"
      ]
    },
    {
      "cell_type": "code",
      "source": [],
      "metadata": {
        "id": "f_Cl0U02OGqw"
      },
      "execution_count": null,
      "outputs": []
    }
  ],
  "metadata": {
    "accelerator": "GPU",
    "colab": {
      "provenance": [],
      "authorship_tag": "ABX9TyPU2McgEvYWaoJb2fv9/pti",
      "include_colab_link": true
    },
    "kernelspec": {
      "display_name": "Python 3",
      "name": "python3"
    },
    "language_info": {
      "name": "python"
    }
  },
  "nbformat": 4,
  "nbformat_minor": 0
}